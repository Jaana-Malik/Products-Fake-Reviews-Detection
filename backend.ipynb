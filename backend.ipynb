{
  "cells": [
    {
      "cell_type": "code",
      "execution_count": 162,
      "metadata": {
        "colab": {
          "base_uri": "https://localhost:8080/"
        },
        "id": "utbkQ_DZIErM",
        "outputId": "328e0709-a8d3-47e8-b998-a736707b1ee2"
      },
      "outputs": [
        {
          "name": "stdout",
          "output_type": "stream",
          "text": [
            "Libraries Imported\n"
          ]
        }
      ],
      "source": [
        "import pandas as pd\n",
        "import re\n",
        "import pickle\n",
        "from sklearn.model_selection import train_test_split\n",
        "from sklearn.feature_extraction.text import CountVectorizer\n",
        "from sklearn.linear_model import LogisticRegression\n",
        "from sklearn.metrics import classification_report\n",
        "print(\"Libraries Imported\")\n",
        "import json\n",
        "from numpy import savetxt\n",
        "from numpy import asarray\n"
      ]
    },
    {
      "cell_type": "code",
      "execution_count": 164,
      "metadata": {
        "id": "uQcZc2MEIEx-"
      },
      "outputs": [],
      "source": [
        "df = pd.read_csv(\"data.csv\")"
      ]
    },
    {
      "cell_type": "code",
      "execution_count": 165,
      "metadata": {
        "id": "AT8BISgpIE1x"
      },
      "outputs": [],
      "source": [
        "X=df['Text'].values\n",
        "Y=df['Label'].values\n",
        "X_train, X_test, Y_train, Y_test= train_test_split(X,Y, test_size=0.3)"
      ]
    },
    {
      "cell_type": "code",
      "execution_count": 166,
      "metadata": {
        "id": "mbzdfVLnJpL6"
      },
      "outputs": [],
      "source": [
        "with open('data.pkl',\"wb\") as f:\n",
        "  pickle.dump(X_train,f)"
      ]
    },
    {
      "cell_type": "code",
      "execution_count": 167,
      "metadata": {
        "id": "YPpxo0lZIE4z"
      },
      "outputs": [],
      "source": [
        "from sklearn.feature_extraction.text import TfidfVectorizer\n",
        "vec = TfidfVectorizer()\n",
        "vec.fit(X_train)\n",
        "x_train=vec.transform(X_train)\n",
        "x_test=vec.transform(X_test)"
      ]
    },
    {
      "cell_type": "code",
      "execution_count": 168,
      "metadata": {
        "colab": {
          "base_uri": "https://localhost:8080/"
        },
        "id": "ukQF0JxhItY-",
        "outputId": "7dcec4cc-6ee8-4cde-aec3-02097acbe3b7"
      },
      "outputs": [
        {
          "data": {
            "text/plain": [
              "LogisticRegression()"
            ]
          },
          "execution_count": 168,
          "metadata": {},
          "output_type": "execute_result"
        }
      ],
      "source": [
        "model = LogisticRegression()\n",
        "model.fit(x_train, Y_train)"
      ]
    },
    {
      "cell_type": "code",
      "execution_count": 169,
      "metadata": {
        "id": "aihaNVDNInz_"
      },
      "outputs": [],
      "source": [
        "filename= \"reviews.pkl\"\n",
        "pickle.dump(model, open(filename,'wb'))"
      ]
    },
    {
      "cell_type": "code",
      "execution_count": 146,
      "metadata": {
        "colab": {
          "base_uri": "https://localhost:8080/"
        },
        "id": "bfqT8u9sIE7g",
        "outputId": "8a569143-e303-4c8c-ef9f-be0c05dc1e83"
      },
      "outputs": [
        {
          "data": {
            "text/plain": [
              "array(['OR', 'CG', 'CG', ..., 'OR', 'OR', 'CG'], dtype=object)"
            ]
          },
          "execution_count": 146,
          "metadata": {},
          "output_type": "execute_result"
        }
      ],
      "source": [
        "\n",
        "loaded_model = pickle.load(open(filename,'rb'))\n",
        "loaded_model.predict(x_test)"
      ]
    },
    {
      "cell_type": "code",
      "execution_count": 147,
      "metadata": {
        "id": "0nyY12v0Iwzp"
      },
      "outputs": [],
      "source": [
        "t = ['Love this!  Well made, sturdy, and very comfortable.  I love it!Very pretty']\n"
      ]
    },
    {
      "cell_type": "code",
      "execution_count": 149,
      "metadata": {
        "colab": {
          "base_uri": "https://localhost:8080/"
        },
        "id": "wl5NkFlFIE9m",
        "outputId": "fd995727-b22e-49cb-c71e-56493044318f"
      },
      "outputs": [
        {
          "data": {
            "text/plain": [
              "array(['CG'], dtype=object)"
            ]
          },
          "execution_count": 149,
          "metadata": {},
          "output_type": "execute_result"
        }
      ],
      "source": [
        "from sklearn.feature_extraction.text import TfidfVectorizer\n",
        "vec2 = TfidfVectorizer()\n",
        "vec2.fit(X_train)\n",
        "inp = vec2.transform(t)\n",
        "model.predict(inp)"
      ]
    },
    {
      "cell_type": "code",
      "execution_count": null,
      "metadata": {
        "id": "qFTx3AlYIE_k"
      },
      "outputs": [],
      "source": []
    },
    {
      "cell_type": "code",
      "execution_count": null,
      "metadata": {
        "id": "omTPcOZ-IFBk"
      },
      "outputs": [],
      "source": []
    }
  ],
  "metadata": {
    "colab": {
      "collapsed_sections": [],
      "name": "Welcome to Colaboratory",
      "provenance": []
    },
    "kernelspec": {
      "display_name": "Python 3",
      "name": "python3"
    }
  },
  "nbformat": 4,
  "nbformat_minor": 0
}
